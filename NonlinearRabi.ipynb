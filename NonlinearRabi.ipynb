{
 "cells": [
  {
   "cell_type": "markdown",
   "metadata": {},
   "source": [
    "# QuTiP example: Nonlinear Response of the Vacuum Rabi Resonance\n",
    "Akash Levy and Katie Blume\n",
    "\n",
    "For more information about QuTiP see http://qutip.org"
   ]
  },
  {
   "cell_type": "markdown",
   "metadata": {},
   "source": [
    "## Setup"
   ]
  },
  {
   "cell_type": "code",
   "execution_count": 1,
   "metadata": {},
   "outputs": [],
   "source": [
    "%matplotlib inline"
   ]
  },
  {
   "cell_type": "code",
   "execution_count": 2,
   "metadata": {},
   "outputs": [],
   "source": [
    "import matplotlib.pyplot as plt\n",
    "import numpy as np\n",
    "from qutip import *\n",
    "from qutip.ui.progressbar import TextProgressBar as ProgressBar\n",
    "qutip.settings.has_mkl = False"
   ]
  },
  {
   "cell_type": "code",
   "execution_count": 3,
   "metadata": {},
   "outputs": [],
   "source": [
    "# System parameters (in GHz)\n",
    "omega_r = 6.92E9 * 2 * np.pi / 1E9        # Resonator frequency\n",
    "omega_C1 = 400E6 * 2 * np.pi / 1E9        # Frequency associated with charging energy of qubit 1\n",
    "omega_C2 = 340E6 * 2 * np.pi / 1E9        # Frequency associated with charging energy of qubit 2\n",
    "omega_J = omega_r                         # Frequency associated with Josephson energy\n",
    "\n",
    "g0_q1 = 347E6 * np.pi / 1E9               # Ground state coupling coefficient for qubit 1\n",
    "g0_q2 = 94.4E6 * np.pi / 1E9              # Ground state coupling coefficient for qubit 2\n",
    "\n",
    "swt_spot = 0\n",
    "T_1_q1 = 1.4E-6 if swt_spot else 1.7E-6\n",
    "T_2_q1 = 2.8E-6 if swt_spot else 0.7E-6\n",
    "gamma_1 = 2 * np.pi / T_1_q1 / 1E9        # Rate of intrinsic relaxation of transmon excitations\n",
    "gamma_phi = 0                             # Rate of pure dephasing of cavity photons (unused, ignored)\n",
    "kappa = 300E3 * 2 * np.pi / 1E9           # Rate of loss of cavity photons\n",
    "\n",
    "alpha = omega_C1                          # Anharmonicity of JC ladder (to first order)"
   ]
  },
  {
   "cell_type": "code",
   "execution_count": 4,
   "metadata": {},
   "outputs": [],
   "source": [
    "# Helper functions\n",
    "def g_j(j):\n",
    "    return g0_q1 * np.sqrt(j+1)\n",
    "def alpha_j(j):\n",
    "    return g_j(j) / g0_q1\n",
    "def omega_j(j):\n",
    "    return np.sqrt(8 * omega_C1 * omega_J) * (j + 1./2) - omega_C1 / 12 * (6*j**2 + 6*j + 3) - omega_J\n",
    "def j_braket(j1,j2):\n",
    "    if j1 >= N_atom or j2 >= N_atom:\n",
    "        return tensor(qeye(N_light), identity(N_atom)-identity(N_atom))\n",
    "    return tensor(qeye(N_light), fock(N_atom, j1) * fock(N_atom, j2).dag())"
   ]
  },
  {
   "cell_type": "code",
   "execution_count": 5,
   "metadata": {},
   "outputs": [],
   "source": [
    "# Simulation parameters\n",
    "N_light = 7\n",
    "N_atom = 2"
   ]
  },
  {
   "cell_type": "markdown",
   "metadata": {},
   "source": [
    "## Figure 2: Supersplitting of the vacuum Rabi resonance when probing heterodyne transmission beyond linear response"
   ]
  },
  {
   "cell_type": "code",
   "execution_count": null,
   "metadata": {},
   "outputs": [],
   "source": [
    "# Vary the driving force\n",
    "xi_dbs = np.linspace(-70, -28, (70-28)*2+1)            # Driving strengths\n",
    "omega_ds = np.linspace(7.08, 7.11, 200) * 2 * np.pi    # Driving frequencies"
   ]
  },
  {
   "cell_type": "code",
   "execution_count": null,
   "metadata": {},
   "outputs": [],
   "source": [
    "# Find transmission amplitude for varying frequencies\n",
    "results = []\n",
    "pbar = ProgressBar(len(xi_dbs))\n",
    "for i, xi_db in enumerate(xi_dbs):\n",
    "    # Convert decibel to magnitude\n",
    "    xi = 10**(xi_db/20)\n",
    "\n",
    "    # Operators\n",
    "    a = tensor(destroy(N_light), qeye(N_atom))\n",
    "    sm = tensor(qeye(N_light), destroy(N_atom))\n",
    "    \n",
    "    # Solve master equation for different driving frequencies\n",
    "    results.append([])\n",
    "    for omega_d in omega_ds:\n",
    "        # Hamiltonian\n",
    "        H_res = (omega_r-omega_d) * a.dag() * a\n",
    "        H_qub = (omega_r-omega_d) * sm.dag() * sm #sum([(omega_j(j)-omega_d) * j_braket(j,j) for j in range(N_atom)])\n",
    "        H_int = g0_q1 * (a * sm.dag() + sm * a.dag()) #sum([g_j(j) * (a * j_braket(j+1,j) + j_braket(j,j+1) * a.dag()) for j in range(N_atom)])\n",
    "        H_drv = xi * (a.dag() + a)\n",
    "        H = H_res + H_qub + H_int + H_drv\n",
    "\n",
    "        # Collapse operators\n",
    "        damping = kappa * a\n",
    "        relaxation = gamma_1 * sm #gamma_1 * sum([alpha_j(j) * j_braket(j,j+1) for j in range(N_atom-1)])\n",
    "        c_ops = [damping, relaxation]\n",
    "        \n",
    "        # Steady-state solution of master equation\n",
    "        rho_s = steadystate(H, c_ops)\n",
    "        results[-1].append(np.abs(expect(a, rho_s))**2)\n",
    "    \n",
    "    # Update progress bar\n",
    "    pbar.update(i)"
   ]
  },
  {
   "cell_type": "code",
   "execution_count": null,
   "metadata": {},
   "outputs": [],
   "source": [
    "# Generate pseudocolor plot of transmission amplitude response over parameter space\n",
    "plt.title('Supersplitting of the vacuum Rabi resonance')\n",
    "plt.xlabel('$\\omega_d / (2 \\pi)$')\n",
    "plt.ylabel('Drive power (dB)')\n",
    "for i in range(-30, -70, -10):\n",
    "    plt.plot(omega_ds/(2*np.pi),[i]*len(omega_ds), 'w', linewidth=1)\n",
    "plt.pcolor(omega_ds/(2*np.pi), xi_dbs, results)\n",
    "plt.show()"
   ]
  },
  {
   "cell_type": "code",
   "execution_count": null,
   "metadata": {},
   "outputs": [],
   "source": [
    "# Plot selected cuts\n",
    "for i, xi_db in enumerate(xi_dbs):\n",
    "    if int(xi_db) in range(-30, -70, -10):\n",
    "        print xi_db, \"dB\"\n",
    "        plt.xlabel('$\\omega_d / (2 \\pi)$')\n",
    "        plt.ylabel('Transmitted intensity $A^2 / A^2_1$')\n",
    "        try:\n",
    "            plt.plot(omega_ds/(2*np.pi), results[i])\n",
    "        except IndexError:\n",
    "            plt.plot(omega_ds/(2*np.pi), results[-1])\n",
    "        plt.show()"
   ]
  },
  {
   "cell_type": "markdown",
   "metadata": {},
   "source": [
    "## Figure 3: Emergence of sqrt(n) peaks under strong driving of the vacuum Rabi transition"
   ]
  },
  {
   "cell_type": "code",
   "execution_count": null,
   "metadata": {},
   "outputs": [],
   "source": [
    "# Vary the driving force\n",
    "xi_dbs = np.linspace(-50, -15, (50-15)*2+1)                     # Driving strengths\n",
    "omega_ds = np.linspace(6.65, 7.2, 200) * 2 * np.pi        # Driving frequencies"
   ]
  },
  {
   "cell_type": "code",
   "execution_count": null,
   "metadata": {},
   "outputs": [],
   "source": [
    "# Find transmission amplitude for varying frequencies\n",
    "results = []\n",
    "pbar = ProgressBar(len(xi_dbs))\n",
    "for i, xi_db in enumerate(xi_dbs):\n",
    "    # Convert decibel to magnitude\n",
    "    xi = 10**(xi_db/20)\n",
    "\n",
    "    # Operators\n",
    "    a = tensor(destroy(N_light), qeye(N_atom))\n",
    "    sm = tensor(qeye(N_light), destroy(N_atom))\n",
    "    \n",
    "    # Solve master equation for different driving frequencies\n",
    "    results.append([])\n",
    "    for omega_d in omega_ds:\n",
    "        # Hamiltonian\n",
    "        H_res = (omega_r-omega_d) * a.dag() * a\n",
    "        H_qub = (omega_r-omega_d) * sm.dag() * sm #sum([(omega_j(j)-omega_d) * j_braket(j,j) for j in range(N_atom)])\n",
    "        H_int = g0_q1 * (a * sm.dag() + sm * a.dag()) #sum([g_j(j) * (a * j_braket(j+1,j) + j_braket(j,j+1) * a.dag()) for j in range(N_atom)])\n",
    "        H_drv = xi * (a.dag() + a)\n",
    "        H = H_res + H_qub + H_int + H_drv\n",
    "\n",
    "        # Collapse operators\n",
    "        damping = kappa * a\n",
    "        relaxation = gamma_1 * sm #gamma_1 * sum([alpha_j(j) * j_braket(j,j+1) for j in range(N_atom-1)])\n",
    "        c_ops = [damping, relaxation]\n",
    "        \n",
    "        # Steady-state solution of master equation\n",
    "        rho_s = steadystate(H, c_ops)\n",
    "        results[-1].append(np.abs(expect(a, rho_s))**2)\n",
    "    \n",
    "    # Update progress bar\n",
    "    pbar.update(i)"
   ]
  },
  {
   "cell_type": "code",
   "execution_count": null,
   "metadata": {},
   "outputs": [],
   "source": [
    "# Generate pseudocolor plot of transmission amplitude response over parameter space\n",
    "plt.title('Emergence of $\\sqrt{n}$ peaks in strong driving regime')\n",
    "plt.xlabel('$\\omega_d / (2 \\pi)$')\n",
    "plt.ylabel('Drive power (dB)')\n",
    "plt.plot(omega_ds/(2*np.pi),[-24]*len(omega_ds), 'w', linewidth=1)\n",
    "plt.plot(omega_ds/(2*np.pi),[-22]*len(omega_ds), 'w', linewidth=1)\n",
    "plt.plot(omega_ds/(2*np.pi),[-18]*len(omega_ds), 'w', linewidth=1)\n",
    "plt.pcolor(omega_ds/(2*np.pi), xi_dbs, results)\n",
    "plt.show()"
   ]
  },
  {
   "cell_type": "code",
   "execution_count": null,
   "metadata": {},
   "outputs": [],
   "source": [
    "# Plot selected cuts\n",
    "for i, xi_db in enumerate(xi_dbs):\n",
    "    if int(xi_db) in [-24, -22, -18]:\n",
    "        print xi_db, \"dB\"\n",
    "        plt.xlabel('$\\omega_d / (2 \\pi)$')\n",
    "        plt.ylabel('Transmitted intensity $A^2 / A^2_1$')\n",
    "        plt.plot(omega_ds/(2*np.pi), results[i])\n",
    "        plt.show()"
   ]
  },
  {
   "cell_type": "markdown",
   "metadata": {},
   "source": [
    "## Figure 4: Qubit–cavity avoided crossing at high drive power"
   ]
  },
  {
   "cell_type": "code",
   "execution_count": 47,
   "metadata": {},
   "outputs": [],
   "source": [
    "# Vary the magnetic field (which varies the qubit frequency)\n",
    "omega_js = np.linspace(omega_r-30, omega_r+30, 101)  # Qubit frequencies\n",
    "omega_ds = np.linspace(6.7, 7.2, 200) * 2 * np.pi    # Driving frequencies"
   ]
  },
  {
   "cell_type": "code",
   "execution_count": 48,
   "metadata": {},
   "outputs": [
    {
     "name": "stdout",
     "output_type": "stream",
     "text": [
      "10.9%. Run time:  13.83s. Est. time left: 00:00:01:53\n",
      "20.8%. Run time:  25.74s. Est. time left: 00:00:01:38\n",
      "30.7%. Run time:  37.68s. Est. time left: 00:00:01:25\n",
      "40.6%. Run time:  49.37s. Est. time left: 00:00:01:12\n",
      "50.5%. Run time:  60.37s. Est. time left: 00:00:00:59\n",
      "60.4%. Run time:  71.25s. Est. time left: 00:00:00:46\n",
      "70.3%. Run time:  82.13s. Est. time left: 00:00:00:34\n",
      "80.2%. Run time:  93.06s. Est. time left: 00:00:00:22\n",
      "90.1%. Run time: 103.97s. Est. time left: 00:00:00:11\n"
     ]
    }
   ],
   "source": [
    "# Find transmission amplitude for varying frequencies\n",
    "results = []\n",
    "pbar = ProgressBar(len(omega_js))\n",
    "for i, omega_j in enumerate(omega_js):\n",
    "    # Convert decibel to magnitude\n",
    "    xi = 10**(-18/20)\n",
    "\n",
    "    # Operators\n",
    "    a = tensor(destroy(N_light), qeye(N_atom))\n",
    "    sm = tensor(qeye(N_light), destroy(N_atom))\n",
    "    \n",
    "    # Solve master equation for different driving frequencies\n",
    "    results.append([])\n",
    "    for omega_d in omega_ds:\n",
    "        # Hamiltonian\n",
    "        H_res = (omega_r-omega_d) * a.dag() * a\n",
    "        H_qub = (omega_r-omega_j) * sm.dag() * sm #sum([(omega_j(j)-omega_d) * j_braket(j,j) for j in range(N_atom)])\n",
    "        H_int = g0_q1 * (a * sm.dag() + sm * a.dag()) #sum([g_j(j) * (a * j_braket(j+1,j) + j_braket(j,j+1) * a.dag()) for j in range(N_atom)])\n",
    "        H_drv = xi * (a.dag() + a)\n",
    "        H = H_res + H_qub + H_int + H_drv\n",
    "\n",
    "        # Collapse operators\n",
    "        damping = kappa * a\n",
    "        relaxation = gamma_1 * sm #gamma_1 * sum([alpha_j(j) * j_braket(j,j+1) for j in range(N_atom-1)])\n",
    "        c_ops = [damping, relaxation]\n",
    "        \n",
    "        # Steady-state solution of master equation\n",
    "        rho_s = steadystate(H, c_ops)\n",
    "        results[-1].append(np.abs(expect(a, rho_s))**2)\n",
    "    \n",
    "    # Update progress bar\n",
    "    pbar.update(i)"
   ]
  },
  {
   "cell_type": "code",
   "execution_count": 49,
   "metadata": {},
   "outputs": [
    {
     "data": {
      "image/png": "[encoded data removed]",
      "text/plain": [
       "<matplotlib.figure.Figure at 0x106ad6510>"
      ]
     },
     "metadata": {},
     "output_type": "display_data"
    }
   ],
   "source": [
    "# Generate pseudocolor plot of transmission amplitude response over parameter space\n",
    "plt.title('Qubit-cavity avoided crossing at high drive power')\n",
    "plt.xlabel('$\\omega_d / (2 \\pi)$')\n",
    "plt.ylabel('B (a.u.)')\n",
    "plt.pcolor(omega_ds/(2*np.pi), omega_js, results)\n",
    "plt.show()"
   ]
  },
  {
   "cell_type": "markdown",
   "metadata": {},
   "source": [
    "## Versions"
   ]
  },
  {
   "cell_type": "code",
   "execution_count": null,
   "metadata": {},
   "outputs": [],
   "source": [
    "from qutip.ipynbtools import version_table\n",
    "\n",
    "version_table()"
   ]
  },
  {
   "cell_type": "code",
   "execution_count": null,
   "metadata": {},
   "outputs": [],
   "source": []
  }
 ],
 "metadata": {
  "kernelspec": {
   "display_name": "Python 2",
   "language": "python",
   "name": "python2"
  },
  "language_info": {
   "codemirror_mode": {
    "name": "ipython",
    "version": 2
   },
   "file_extension": ".py",
   "mimetype": "text/x-python",
   "name": "python",
   "nbconvert_exporter": "python",
   "pygments_lexer": "ipython2",
   "version": "2.7.14"
  }
 },
 "nbformat": 4,
 "nbformat_minor": 2
}
